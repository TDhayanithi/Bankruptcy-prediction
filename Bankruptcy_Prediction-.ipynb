{
 "cells": [
  {
   "cell_type": "markdown",
   "id": "b5925fb8",
   "metadata": {},
   "source": [
    "## IMPORTING LIBRARIES"
   ]
  },
  {
   "cell_type": "code",
   "execution_count": 47,
   "id": "c00ece38",
   "metadata": {},
   "outputs": [
    {
     "name": "stdout",
     "output_type": "stream",
     "text": [
      "Requirement already satisfied: seaborn in c:\\users\\dhayanithi\\anaconda3\\lib\\site-packages (0.11.2)\n",
      "Requirement already satisfied: scipy>=1.0 in c:\\users\\dhayanithi\\anaconda3\\lib\\site-packages (from seaborn) (1.9.1)\n",
      "Requirement already satisfied: matplotlib>=2.2 in c:\\users\\dhayanithi\\anaconda3\\lib\\site-packages (from seaborn) (3.5.2)\n",
      "Requirement already satisfied: pandas>=0.23 in c:\\users\\dhayanithi\\anaconda3\\lib\\site-packages (from seaborn) (2.1.0)\n",
      "Requirement already satisfied: numpy>=1.15 in c:\\users\\dhayanithi\\anaconda3\\lib\\site-packages (from seaborn) (1.25.2)\n",
      "Requirement already satisfied: python-dateutil>=2.7 in c:\\users\\dhayanithi\\anaconda3\\lib\\site-packages (from matplotlib>=2.2->seaborn) (2.8.2)\n",
      "Requirement already satisfied: kiwisolver>=1.0.1 in c:\\users\\dhayanithi\\anaconda3\\lib\\site-packages (from matplotlib>=2.2->seaborn) (1.4.2)\n",
      "Requirement already satisfied: pyparsing>=2.2.1 in c:\\users\\dhayanithi\\anaconda3\\lib\\site-packages (from matplotlib>=2.2->seaborn) (3.0.9)\n",
      "Requirement already satisfied: pillow>=6.2.0 in c:\\users\\dhayanithi\\anaconda3\\lib\\site-packages (from matplotlib>=2.2->seaborn) (9.2.0)\n",
      "Requirement already satisfied: cycler>=0.10 in c:\\users\\dhayanithi\\anaconda3\\lib\\site-packages (from matplotlib>=2.2->seaborn) (0.11.0)\n",
      "Requirement already satisfied: fonttools>=4.22.0 in c:\\users\\dhayanithi\\anaconda3\\lib\\site-packages (from matplotlib>=2.2->seaborn) (4.25.0)\n",
      "Requirement already satisfied: packaging>=20.0 in c:\\users\\dhayanithi\\anaconda3\\lib\\site-packages (from matplotlib>=2.2->seaborn) (21.3)\n",
      "Requirement already satisfied: tzdata>=2022.1 in c:\\users\\dhayanithi\\anaconda3\\lib\\site-packages (from pandas>=0.23->seaborn) (2023.3)\n",
      "Requirement already satisfied: pytz>=2020.1 in c:\\users\\dhayanithi\\anaconda3\\lib\\site-packages (from pandas>=0.23->seaborn) (2022.1)\n",
      "Collecting numpy>=1.15\n",
      "  Downloading numpy-1.24.4-cp39-cp39-win_amd64.whl (14.9 MB)\n",
      "     ---------------------------------------- 14.9/14.9 MB 5.4 MB/s eta 0:00:00\n",
      "Requirement already satisfied: six>=1.5 in c:\\users\\dhayanithi\\anaconda3\\lib\\site-packages (from python-dateutil>=2.7->matplotlib>=2.2->seaborn) (1.16.0)\n",
      "Installing collected packages: numpy\n",
      "  Attempting uninstall: numpy\n",
      "    Found existing installation: numpy 1.25.2\n",
      "    Uninstalling numpy-1.25.2:\n",
      "      Successfully uninstalled numpy-1.25.2\n"
     ]
    },
    {
     "name": "stderr",
     "output_type": "stream",
     "text": [
      "ERROR: Could not install packages due to an OSError: [WinError 5] Access is denied: 'C:\\\\Users\\\\Dhayanithi\\\\anaconda3\\\\Lib\\\\site-packages\\\\~~mpy\\\\.libs\\\\libopenblas64__v0.3.23-246-g3d31191b-gcc_10_3_0.dll'\n",
      "Consider using the `--user` option or check the permissions.\n",
      "\n"
     ]
    }
   ],
   "source": [
    "!pip install seaborn"
   ]
  },
  {
   "cell_type": "code",
   "execution_count": null,
   "id": "a70d933a",
   "metadata": {},
   "outputs": [],
   "source": [
    "!pip install matplotlib"
   ]
  },
  {
   "cell_type": "code",
   "execution_count": 3,
   "id": "36ff1cbd",
   "metadata": {},
   "outputs": [],
   "source": [
    "import pandas as pd\n",
    "import numpy as np\n",
    "import matplotlib.pyplot as plt\n",
    "import seaborn as sns\n",
    "from scipy.io import arff\n",
    "import missingno as msno\n",
    "%matplotlib inline\n",
    "import warnings\n",
    "warnings.filterwarnings(\"ignore\")"
   ]
  },
  {
   "cell_type": "code",
   "execution_count": 4,
   "id": "97bd7163",
   "metadata": {},
   "outputs": [],
   "source": [
    "dataset_1 = arff.loadarff('1year.arff')\n",
    "dataset_2 = arff.loadarff('2year.arff')\n",
    "dataset_3 = arff.loadarff('3year.arff')\n",
    "dataset_4 = arff.loadarff('4year.arff')\n",
    "dataset_5 = arff.loadarff('5year.arff')"
   ]
  },
  {
   "cell_type": "code",
   "execution_count": 5,
   "id": "cec7bd51",
   "metadata": {},
   "outputs": [],
   "source": [
    "df1 = pd.DataFrame(dataset_1[0])\n",
    "df2 = pd.DataFrame(dataset_2[0])\n",
    "df3 = pd.DataFrame(dataset_3[0])\n",
    "df4 = pd.DataFrame(dataset_4[0])\n",
    "df5 = pd.DataFrame(dataset_5[0])"
   ]
  },
  {
   "cell_type": "code",
   "execution_count": 6,
   "id": "9fdd75f9",
   "metadata": {},
   "outputs": [],
   "source": [
    "df_train = pd.concat([df1,df2,df3,df4,df5],axis = 0)"
   ]
  },
  {
   "cell_type": "code",
   "execution_count": 7,
   "id": "80077fe9",
   "metadata": {},
   "outputs": [
    {
     "name": "stdout",
     "output_type": "stream",
     "text": [
      "43405 Rows and 65 columns for Training dataset\n"
     ]
    }
   ],
   "source": [
    "print(\"{0} Rows and {1} columns for Training dataset\".format(df_train.shape[0],df_train.shape[1]))"
   ]
  },
  {
   "cell_type": "code",
   "execution_count": 8,
   "id": "89c9e0bb",
   "metadata": {},
   "outputs": [
    {
     "data": {
      "text/plain": [
       "Index(['Attr1', 'Attr2', 'Attr3', 'Attr4', 'Attr5', 'Attr6', 'Attr7', 'Attr8',\n",
       "       'Attr9', 'Attr10', 'Attr11', 'Attr12', 'Attr13', 'Attr14', 'Attr15',\n",
       "       'Attr16', 'Attr17', 'Attr18', 'Attr19', 'Attr20', 'Attr21', 'Attr22',\n",
       "       'Attr23', 'Attr24', 'Attr25', 'Attr26', 'Attr27', 'Attr28', 'Attr29',\n",
       "       'Attr30', 'Attr31', 'Attr32', 'Attr33', 'Attr34', 'Attr35', 'Attr36',\n",
       "       'Attr37', 'Attr38', 'Attr39', 'Attr40', 'Attr41', 'Attr42', 'Attr43',\n",
       "       'Attr44', 'Attr45', 'Attr46', 'Attr47', 'Attr48', 'Attr49', 'Attr50',\n",
       "       'Attr51', 'Attr52', 'Attr53', 'Attr54', 'Attr55', 'Attr56', 'Attr57',\n",
       "       'Attr58', 'Attr59', 'Attr60', 'Attr61', 'Attr62', 'Attr63', 'Attr64',\n",
       "       'class'],\n",
       "      dtype='object')"
      ]
     },
     "execution_count": 8,
     "metadata": {},
     "output_type": "execute_result"
    }
   ],
   "source": [
    "df_train.columns"
   ]
  },
  {
   "cell_type": "code",
   "execution_count": 9,
   "id": "d7acfa01",
   "metadata": {},
   "outputs": [
    {
     "name": "stdout",
     "output_type": "stream",
     "text": [
      "<class 'pandas.core.frame.DataFrame'>\n",
      "Index: 43405 entries, 0 to 5909\n",
      "Data columns (total 65 columns):\n",
      " #   Column  Non-Null Count  Dtype  \n",
      "---  ------  --------------  -----  \n",
      " 0   Attr1   43397 non-null  float64\n",
      " 1   Attr2   43397 non-null  float64\n",
      " 2   Attr3   43397 non-null  float64\n",
      " 3   Attr4   43271 non-null  float64\n",
      " 4   Attr5   43316 non-null  float64\n",
      " 5   Attr6   43397 non-null  float64\n",
      " 6   Attr7   43397 non-null  float64\n",
      " 7   Attr8   43311 non-null  float64\n",
      " 8   Attr9   43396 non-null  float64\n",
      " 9   Attr10  43397 non-null  float64\n",
      " 10  Attr11  43361 non-null  float64\n",
      " 11  Attr12  43271 non-null  float64\n",
      " 12  Attr13  43278 non-null  float64\n",
      " 13  Attr14  43397 non-null  float64\n",
      " 14  Attr15  43369 non-null  float64\n",
      " 15  Attr16  43310 non-null  float64\n",
      " 16  Attr17  43311 non-null  float64\n",
      " 17  Attr18  43397 non-null  float64\n",
      " 18  Attr19  43277 non-null  float64\n",
      " 19  Attr20  43278 non-null  float64\n",
      " 20  Attr21  37551 non-null  float64\n",
      " 21  Attr22  43397 non-null  float64\n",
      " 22  Attr23  43278 non-null  float64\n",
      " 23  Attr24  42483 non-null  float64\n",
      " 24  Attr25  43397 non-null  float64\n",
      " 25  Attr26  43310 non-null  float64\n",
      " 26  Attr27  40641 non-null  float64\n",
      " 27  Attr28  42593 non-null  float64\n",
      " 28  Attr29  43397 non-null  float64\n",
      " 29  Attr30  43278 non-null  float64\n",
      " 30  Attr31  43278 non-null  float64\n",
      " 31  Attr32  43037 non-null  float64\n",
      " 32  Attr33  43271 non-null  float64\n",
      " 33  Attr34  43311 non-null  float64\n",
      " 34  Attr35  43397 non-null  float64\n",
      " 35  Attr36  43397 non-null  float64\n",
      " 36  Attr37  24421 non-null  float64\n",
      " 37  Attr38  43397 non-null  float64\n",
      " 38  Attr39  43278 non-null  float64\n",
      " 39  Attr40  43271 non-null  float64\n",
      " 40  Attr41  42651 non-null  float64\n",
      " 41  Attr42  43278 non-null  float64\n",
      " 42  Attr43  43278 non-null  float64\n",
      " 43  Attr44  43278 non-null  float64\n",
      " 44  Attr45  41258 non-null  float64\n",
      " 45  Attr46  43270 non-null  float64\n",
      " 46  Attr47  43108 non-null  float64\n",
      " 47  Attr48  43396 non-null  float64\n",
      " 48  Attr49  43278 non-null  float64\n",
      " 49  Attr50  43311 non-null  float64\n",
      " 50  Attr51  43397 non-null  float64\n",
      " 51  Attr52  43104 non-null  float64\n",
      " 52  Attr53  42593 non-null  float64\n",
      " 53  Attr54  42593 non-null  float64\n",
      " 54  Attr55  43404 non-null  float64\n",
      " 55  Attr56  43278 non-null  float64\n",
      " 56  Attr57  43398 non-null  float64\n",
      " 57  Attr58  43321 non-null  float64\n",
      " 58  Attr59  43398 non-null  float64\n",
      " 59  Attr60  41253 non-null  float64\n",
      " 60  Attr61  43303 non-null  float64\n",
      " 61  Attr62  43278 non-null  float64\n",
      " 62  Attr63  43271 non-null  float64\n",
      " 63  Attr64  42593 non-null  float64\n",
      " 64  class   43405 non-null  object \n",
      "dtypes: float64(64), object(1)\n",
      "memory usage: 21.9+ MB\n"
     ]
    }
   ],
   "source": [
    "#Checking the Datatype of the features\n",
    "df_train.info()"
   ]
  },
  {
   "cell_type": "markdown",
   "id": "cf7f2149",
   "metadata": {},
   "source": [
    "# Data Preprocessing"
   ]
  },
  {
   "cell_type": "code",
   "execution_count": 10,
   "id": "1f8b1342",
   "metadata": {},
   "outputs": [
    {
     "data": {
      "text/plain": [
       "array([b'0', b'1'], dtype=object)"
      ]
     },
     "execution_count": 10,
     "metadata": {},
     "output_type": "execute_result"
    }
   ],
   "source": [
    "#Checking the unique values in the Class-Feature\n",
    "df_train['class'].unique()"
   ]
  },
  {
   "cell_type": "code",
   "execution_count": 11,
   "id": "68a312a2",
   "metadata": {},
   "outputs": [
    {
     "data": {
      "text/plain": [
       "class\n",
       "b'0'    41314\n",
       "b'1'     2091\n",
       "Name: count, dtype: int64"
      ]
     },
     "execution_count": 11,
     "metadata": {},
     "output_type": "execute_result"
    }
   ],
   "source": [
    "df_train['class'].value_counts()"
   ]
  },
  {
   "cell_type": "code",
   "execution_count": 12,
   "id": "90e3b6f5",
   "metadata": {},
   "outputs": [],
   "source": [
    "#Imputing class labels of train and test into Int type\n",
    "from sklearn.preprocessing import LabelEncoder"
   ]
  },
  {
   "cell_type": "code",
   "execution_count": 13,
   "id": "d7f6cdc9",
   "metadata": {},
   "outputs": [],
   "source": [
    "label_encoder = LabelEncoder()"
   ]
  },
  {
   "cell_type": "code",
   "execution_count": 14,
   "id": "3240ca50",
   "metadata": {},
   "outputs": [],
   "source": [
    "df_train['class']= label_encoder.fit_transform(df_train['class'])"
   ]
  },
  {
   "cell_type": "code",
   "execution_count": 15,
   "id": "f71a6e5b",
   "metadata": {},
   "outputs": [
    {
     "data": {
      "text/plain": [
       "array([0, 1])"
      ]
     },
     "execution_count": 15,
     "metadata": {},
     "output_type": "execute_result"
    }
   ],
   "source": [
    "df_train['class'].unique()"
   ]
  },
  {
   "cell_type": "code",
   "execution_count": 16,
   "id": "3412ab13",
   "metadata": {},
   "outputs": [
    {
     "data": {
      "text/plain": [
       "class\n",
       "0    41314\n",
       "1     2091\n",
       "Name: count, dtype: int64"
      ]
     },
     "execution_count": 16,
     "metadata": {},
     "output_type": "execute_result"
    }
   ],
   "source": [
    "df_train['class'].value_counts()"
   ]
  },
  {
   "cell_type": "markdown",
   "id": "4dafd165",
   "metadata": {},
   "source": [
    "## MICE imputation (Multivariate Imputation using Chained Equation)"
   ]
  },
  {
   "cell_type": "markdown",
   "id": "9013d31d",
   "metadata": {},
   "source": [
    "It appears that there's no MICE attribute in the fancyimpute module. If you want to perform Multiple Imputation by Chained Equations (MICE), you can use the IterativeImputer class from the sklearn.impute module. "
   ]
  },
  {
   "cell_type": "code",
   "execution_count": 17,
   "id": "49616140",
   "metadata": {},
   "outputs": [],
   "source": [
    "from sklearn.experimental import enable_iterative_imputer\n",
    "from sklearn.impute import IterativeImputer\n",
    "mice_imputer = IterativeImputer(max_iter=10, imputation_order='random')\n",
    "mice_imputed_dataset = mice_imputer.fit_transform(df_train)\n",
    "df = pd.DataFrame(data=mice_imputed_dataset, columns=df_train.columns)\n"
   ]
  },
  {
   "cell_type": "code",
   "execution_count": 18,
   "id": "f425e4c2",
   "metadata": {},
   "outputs": [
    {
     "name": "stdout",
     "output_type": "stream",
     "text": [
      "<class 'pandas.core.frame.DataFrame'>\n",
      "RangeIndex: 43405 entries, 0 to 43404\n",
      "Data columns (total 65 columns):\n",
      " #   Column  Non-Null Count  Dtype  \n",
      "---  ------  --------------  -----  \n",
      " 0   Attr1   43405 non-null  float64\n",
      " 1   Attr2   43405 non-null  float64\n",
      " 2   Attr3   43405 non-null  float64\n",
      " 3   Attr4   43405 non-null  float64\n",
      " 4   Attr5   43405 non-null  float64\n",
      " 5   Attr6   43405 non-null  float64\n",
      " 6   Attr7   43405 non-null  float64\n",
      " 7   Attr8   43405 non-null  float64\n",
      " 8   Attr9   43405 non-null  float64\n",
      " 9   Attr10  43405 non-null  float64\n",
      " 10  Attr11  43405 non-null  float64\n",
      " 11  Attr12  43405 non-null  float64\n",
      " 12  Attr13  43405 non-null  float64\n",
      " 13  Attr14  43405 non-null  float64\n",
      " 14  Attr15  43405 non-null  float64\n",
      " 15  Attr16  43405 non-null  float64\n",
      " 16  Attr17  43405 non-null  float64\n",
      " 17  Attr18  43405 non-null  float64\n",
      " 18  Attr19  43405 non-null  float64\n",
      " 19  Attr20  43405 non-null  float64\n",
      " 20  Attr21  43405 non-null  float64\n",
      " 21  Attr22  43405 non-null  float64\n",
      " 22  Attr23  43405 non-null  float64\n",
      " 23  Attr24  43405 non-null  float64\n",
      " 24  Attr25  43405 non-null  float64\n",
      " 25  Attr26  43405 non-null  float64\n",
      " 26  Attr27  43405 non-null  float64\n",
      " 27  Attr28  43405 non-null  float64\n",
      " 28  Attr29  43405 non-null  float64\n",
      " 29  Attr30  43405 non-null  float64\n",
      " 30  Attr31  43405 non-null  float64\n",
      " 31  Attr32  43405 non-null  float64\n",
      " 32  Attr33  43405 non-null  float64\n",
      " 33  Attr34  43405 non-null  float64\n",
      " 34  Attr35  43405 non-null  float64\n",
      " 35  Attr36  43405 non-null  float64\n",
      " 36  Attr37  43405 non-null  float64\n",
      " 37  Attr38  43405 non-null  float64\n",
      " 38  Attr39  43405 non-null  float64\n",
      " 39  Attr40  43405 non-null  float64\n",
      " 40  Attr41  43405 non-null  float64\n",
      " 41  Attr42  43405 non-null  float64\n",
      " 42  Attr43  43405 non-null  float64\n",
      " 43  Attr44  43405 non-null  float64\n",
      " 44  Attr45  43405 non-null  float64\n",
      " 45  Attr46  43405 non-null  float64\n",
      " 46  Attr47  43405 non-null  float64\n",
      " 47  Attr48  43405 non-null  float64\n",
      " 48  Attr49  43405 non-null  float64\n",
      " 49  Attr50  43405 non-null  float64\n",
      " 50  Attr51  43405 non-null  float64\n",
      " 51  Attr52  43405 non-null  float64\n",
      " 52  Attr53  43405 non-null  float64\n",
      " 53  Attr54  43405 non-null  float64\n",
      " 54  Attr55  43405 non-null  float64\n",
      " 55  Attr56  43405 non-null  float64\n",
      " 56  Attr57  43405 non-null  float64\n",
      " 57  Attr58  43405 non-null  float64\n",
      " 58  Attr59  43405 non-null  float64\n",
      " 59  Attr60  43405 non-null  float64\n",
      " 60  Attr61  43405 non-null  float64\n",
      " 61  Attr62  43405 non-null  float64\n",
      " 62  Attr63  43405 non-null  float64\n",
      " 63  Attr64  43405 non-null  float64\n",
      " 64  class   43405 non-null  float64\n",
      "dtypes: float64(65)\n",
      "memory usage: 21.5 MB\n"
     ]
    }
   ],
   "source": [
    "df.info()"
   ]
  },
  {
   "cell_type": "code",
   "execution_count": 19,
   "id": "f7af578a",
   "metadata": {},
   "outputs": [
    {
     "data": {
      "text/plain": [
       "Attr1     0\n",
       "Attr2     0\n",
       "Attr3     0\n",
       "Attr4     0\n",
       "Attr5     0\n",
       "         ..\n",
       "Attr61    0\n",
       "Attr62    0\n",
       "Attr63    0\n",
       "Attr64    0\n",
       "class     0\n",
       "Length: 65, dtype: int64"
      ]
     },
     "execution_count": 19,
     "metadata": {},
     "output_type": "execute_result"
    }
   ],
   "source": [
    "df.isnull().sum()"
   ]
  },
  {
   "cell_type": "code",
   "execution_count": 20,
   "id": "4dcd9083",
   "metadata": {},
   "outputs": [
    {
     "name": "stdout",
     "output_type": "stream",
     "text": [
      "<class 'pandas.core.frame.DataFrame'>\n",
      "RangeIndex: 43405 entries, 0 to 43404\n",
      "Data columns (total 65 columns):\n",
      " #   Column  Non-Null Count  Dtype  \n",
      "---  ------  --------------  -----  \n",
      " 0   Attr1   43405 non-null  float64\n",
      " 1   Attr2   43405 non-null  float64\n",
      " 2   Attr3   43405 non-null  float64\n",
      " 3   Attr4   43405 non-null  float64\n",
      " 4   Attr5   43405 non-null  float64\n",
      " 5   Attr6   43405 non-null  float64\n",
      " 6   Attr7   43405 non-null  float64\n",
      " 7   Attr8   43405 non-null  float64\n",
      " 8   Attr9   43405 non-null  float64\n",
      " 9   Attr10  43405 non-null  float64\n",
      " 10  Attr11  43405 non-null  float64\n",
      " 11  Attr12  43405 non-null  float64\n",
      " 12  Attr13  43405 non-null  float64\n",
      " 13  Attr14  43405 non-null  float64\n",
      " 14  Attr15  43405 non-null  float64\n",
      " 15  Attr16  43405 non-null  float64\n",
      " 16  Attr17  43405 non-null  float64\n",
      " 17  Attr18  43405 non-null  float64\n",
      " 18  Attr19  43405 non-null  float64\n",
      " 19  Attr20  43405 non-null  float64\n",
      " 20  Attr21  43405 non-null  float64\n",
      " 21  Attr22  43405 non-null  float64\n",
      " 22  Attr23  43405 non-null  float64\n",
      " 23  Attr24  43405 non-null  float64\n",
      " 24  Attr25  43405 non-null  float64\n",
      " 25  Attr26  43405 non-null  float64\n",
      " 26  Attr27  43405 non-null  float64\n",
      " 27  Attr28  43405 non-null  float64\n",
      " 28  Attr29  43405 non-null  float64\n",
      " 29  Attr30  43405 non-null  float64\n",
      " 30  Attr31  43405 non-null  float64\n",
      " 31  Attr32  43405 non-null  float64\n",
      " 32  Attr33  43405 non-null  float64\n",
      " 33  Attr34  43405 non-null  float64\n",
      " 34  Attr35  43405 non-null  float64\n",
      " 35  Attr36  43405 non-null  float64\n",
      " 36  Attr37  43405 non-null  float64\n",
      " 37  Attr38  43405 non-null  float64\n",
      " 38  Attr39  43405 non-null  float64\n",
      " 39  Attr40  43405 non-null  float64\n",
      " 40  Attr41  43405 non-null  float64\n",
      " 41  Attr42  43405 non-null  float64\n",
      " 42  Attr43  43405 non-null  float64\n",
      " 43  Attr44  43405 non-null  float64\n",
      " 44  Attr45  43405 non-null  float64\n",
      " 45  Attr46  43405 non-null  float64\n",
      " 46  Attr47  43405 non-null  float64\n",
      " 47  Attr48  43405 non-null  float64\n",
      " 48  Attr49  43405 non-null  float64\n",
      " 49  Attr50  43405 non-null  float64\n",
      " 50  Attr51  43405 non-null  float64\n",
      " 51  Attr52  43405 non-null  float64\n",
      " 52  Attr53  43405 non-null  float64\n",
      " 53  Attr54  43405 non-null  float64\n",
      " 54  Attr55  43405 non-null  float64\n",
      " 55  Attr56  43405 non-null  float64\n",
      " 56  Attr57  43405 non-null  float64\n",
      " 57  Attr58  43405 non-null  float64\n",
      " 58  Attr59  43405 non-null  float64\n",
      " 59  Attr60  43405 non-null  float64\n",
      " 60  Attr61  43405 non-null  float64\n",
      " 61  Attr62  43405 non-null  float64\n",
      " 62  Attr63  43405 non-null  float64\n",
      " 63  Attr64  43405 non-null  float64\n",
      " 64  class   43405 non-null  float64\n",
      "dtypes: float64(65)\n",
      "memory usage: 21.5 MB\n"
     ]
    }
   ],
   "source": [
    "df.info()"
   ]
  },
  {
   "cell_type": "code",
   "execution_count": 21,
   "id": "27a16f11",
   "metadata": {},
   "outputs": [],
   "source": [
    "df.to_csv('Cleaned_Data.csv')"
   ]
  },
  {
   "cell_type": "markdown",
   "id": "d9f3cd12",
   "metadata": {},
   "source": [
    "# Feature Selection"
   ]
  },
  {
   "cell_type": "code",
   "execution_count": 22,
   "id": "42f6cd20",
   "metadata": {},
   "outputs": [],
   "source": [
    "from sklearn.model_selection import train_test_split"
   ]
  },
  {
   "cell_type": "code",
   "execution_count": 23,
   "id": "a6c363e4",
   "metadata": {},
   "outputs": [],
   "source": [
    "x = df.drop(labels=['class'], axis=1)\n",
    "y = df['class']"
   ]
  },
  {
   "cell_type": "code",
   "execution_count": 24,
   "id": "6d75fd7d",
   "metadata": {},
   "outputs": [],
   "source": [
    "from imblearn.over_sampling import SMOTE\n",
    "smote = SMOTE(sampling_strategy='minority')\n",
    "x_sm,y_sm = smote.fit_resample(x,y)"
   ]
  },
  {
   "cell_type": "code",
   "execution_count": 25,
   "id": "c102bc99",
   "metadata": {},
   "outputs": [
    {
     "data": {
      "text/plain": [
       "((82628, 64), (82628,))"
      ]
     },
     "execution_count": 25,
     "metadata": {},
     "output_type": "execute_result"
    }
   ],
   "source": [
    "x_sm.shape,y_sm.shape"
   ]
  },
  {
   "cell_type": "code",
   "execution_count": 26,
   "id": "e42340ed",
   "metadata": {},
   "outputs": [
    {
     "data": {
      "image/png": "[encoded data removed]",
      "text/plain": [
       "<Figure size 700x500 with 1 Axes>"
      ]
     },
     "metadata": {},
     "output_type": "display_data"
    }
   ],
   "source": [
    "plt.figure(figsize = (7,5))\n",
    "labels = [\"Not Bankrupt\", \"Bankrupt\"]\n",
    "plt.pie(df['class'].value_counts().values,labels = labels, autopct='%.1f%%')\n",
    "plt.title(\"Distribution of Bankrupt and Not-Bankrupt records in Test data\")\n",
    "plt.show()"
   ]
  },
  {
   "cell_type": "code",
   "execution_count": 27,
   "id": "e9c1876b",
   "metadata": {},
   "outputs": [
    {
     "data": {
      "image/png": "[encoded data removed]",
      "text/plain": [
       "<Figure size 700x500 with 1 Axes>"
      ]
     },
     "metadata": {},
     "output_type": "display_data"
    }
   ],
   "source": [
    "plt.figure(figsize = (7,5))\n",
    "labels = [\"Not Bankrupt\", \"Bankrupt\"]\n",
    "plt.pie(y_sm.value_counts().values,labels = labels, autopct='%.1f%%')\n",
    "plt.title(\"Distribution of Bankrupt and Not-Bankrupt records in Test data after SMOTE\")\n",
    "plt.show()"
   ]
  },
  {
   "cell_type": "code",
   "execution_count": 28,
   "id": "b0328840",
   "metadata": {},
   "outputs": [
    {
     "data": {
      "text/plain": [
       "((57839, 64), (24789, 64))"
      ]
     },
     "execution_count": 28,
     "metadata": {},
     "output_type": "execute_result"
    }
   ],
   "source": [
    "# separate train and test sets\n",
    "X_train, X_test, y_train, y_test = train_test_split(x_sm,y_sm,test_size=0.3, random_state=0)\n",
    "\n",
    "X_train.shape, X_test.shape"
   ]
  },
  {
   "cell_type": "code",
   "execution_count": 29,
   "id": "f69a0177",
   "metadata": {},
   "outputs": [],
   "source": [
    "from sklearn.preprocessing import StandardScaler\n",
    "sc = StandardScaler()\n",
    "X_train_scale = sc.fit_transform(X_train)\n",
    "X_test_scale = sc.transform(X_test)"
   ]
  },
  {
   "cell_type": "markdown",
   "id": "c9f1be13",
   "metadata": {},
   "source": [
    "# Determine Mutual Information"
   ]
  },
  {
   "cell_type": "code",
   "execution_count": 30,
   "id": "8fa69394",
   "metadata": {},
   "outputs": [],
   "source": [
    "from sklearn.feature_selection import mutual_info_classif"
   ]
  },
  {
   "cell_type": "code",
   "execution_count": 31,
   "id": "6773d735",
   "metadata": {},
   "outputs": [
    {
     "data": {
      "text/plain": [
       "array([0.06183535, 0.05756986, 0.04566948, 0.0487722 , 0.04682718,\n",
       "       0.11007825, 0.05945227, 0.04690765, 0.07211197, 0.05801644,\n",
       "       0.04920447, 0.06777423, 0.07954817, 0.05950411, 0.08978565,\n",
       "       0.08955607, 0.0476929 , 0.05936254, 0.06511352, 0.00613116,\n",
       "       0.1193656 , 0.0860825 , 0.06797563, 0.06857478, 0.06968407,\n",
       "       0.08882217, 0.1682699 , 0.04327959, 0.02405444, 0.03726008,\n",
       "       0.06528477, 0.03390398, 0.0201144 , 0.01917654, 0.07286457,\n",
       "       0.01153137, 0.08188745, 0.06159253, 0.07951819, 0.02830293,\n",
       "       0.08739635, 0.09418889, 0.01540206, 0.00988442, 0.05615235,\n",
       "       0.06709875, 0.00769033, 0.0426036 , 0.03781054, 0.03646024,\n",
       "       0.05736887, 0.02841026, 0.04113645, 0.05115627, 0.06682974,\n",
       "       0.04046371, 0.03837934, 0.0739184 , 0.03247833, 0.00614164,\n",
       "       0.01342013, 0.0478871 , 0.03278864, 0.01333369])"
      ]
     },
     "execution_count": 31,
     "metadata": {},
     "output_type": "execute_result"
    }
   ],
   "source": [
    "# calculate the mutual information between the variables and the target\n",
    "\n",
    "# the smaller the value of the mi, the less information we can infer from\n",
    "# the feature about the target\n",
    "\n",
    "mi = mutual_info_classif(X_train_scale, y_train)\n",
    "mi"
   ]
  },
  {
   "cell_type": "markdown",
   "id": "abae5c79",
   "metadata": {},
   "source": [
    "## Select top k features based on MI"
   ]
  },
  {
   "cell_type": "code",
   "execution_count": 32,
   "id": "03f34bba",
   "metadata": {},
   "outputs": [],
   "source": [
    "from sklearn.feature_selection import SelectKBest"
   ]
  },
  {
   "cell_type": "code",
   "execution_count": 33,
   "id": "46ba37f8",
   "metadata": {},
   "outputs": [],
   "source": [
    "import pandas as pd\n",
    "from sklearn.feature_selection import SelectKBest\n",
    "from sklearn.feature_selection import mutual_info_classif\n",
    "\n",
    "# Assuming you have already defined X_train_scale and y_train\n",
    "\n",
    "# Select features\n",
    "top_features = SelectKBest(mutual_info_classif, k=10)  # k = 10\n",
    "sel_ = top_features.fit(X_train_scale, y_train)\n",
    "\n",
    "# Get the indices of the selected features\n",
    "selected_feature_indices = sel_.get_support(indices=True)\n",
    "\n",
    "# Create a DataFrame with the selected columns\n",
    "X_train_selected = pd.DataFrame(X_train_scale[:, selected_feature_indices], columns=X_train.columns[selected_feature_indices])\n",
    "\n",
    "# X_train_selected now contains the 10 selected columns\n"
   ]
  },
  {
   "cell_type": "code",
   "execution_count": 34,
   "id": "35e015ad",
   "metadata": {},
   "outputs": [
    {
     "data": {
      "text/html": [
       "<div>\n",
       "<style scoped>\n",
       "    .dataframe tbody tr th:only-of-type {\n",
       "        vertical-align: middle;\n",
       "    }\n",
       "\n",
       "    .dataframe tbody tr th {\n",
       "        vertical-align: top;\n",
       "    }\n",
       "\n",
       "    .dataframe thead th {\n",
       "        text-align: right;\n",
       "    }\n",
       "</style>\n",
       "<table border=\"1\" class=\"dataframe\">\n",
       "  <thead>\n",
       "    <tr style=\"text-align: right;\">\n",
       "      <th></th>\n",
       "      <th>Attr6</th>\n",
       "      <th>Attr15</th>\n",
       "      <th>Attr16</th>\n",
       "      <th>Attr21</th>\n",
       "      <th>Attr22</th>\n",
       "      <th>Attr26</th>\n",
       "      <th>Attr27</th>\n",
       "      <th>Attr37</th>\n",
       "      <th>Attr41</th>\n",
       "      <th>Attr42</th>\n",
       "    </tr>\n",
       "  </thead>\n",
       "  <tbody>\n",
       "    <tr>\n",
       "      <th>0</th>\n",
       "      <td>0.040831</td>\n",
       "      <td>-0.035154</td>\n",
       "      <td>0.010383</td>\n",
       "      <td>-0.011163</td>\n",
       "      <td>0.001182</td>\n",
       "      <td>0.009938</td>\n",
       "      <td>0.020402</td>\n",
       "      <td>0.005408</td>\n",
       "      <td>-0.004501</td>\n",
       "      <td>0.012986</td>\n",
       "    </tr>\n",
       "    <tr>\n",
       "      <th>1</th>\n",
       "      <td>0.045310</td>\n",
       "      <td>0.022622</td>\n",
       "      <td>-0.000203</td>\n",
       "      <td>-0.012104</td>\n",
       "      <td>0.006863</td>\n",
       "      <td>-0.000965</td>\n",
       "      <td>-0.034576</td>\n",
       "      <td>-0.048193</td>\n",
       "      <td>-0.004313</td>\n",
       "      <td>0.014942</td>\n",
       "    </tr>\n",
       "    <tr>\n",
       "      <th>2</th>\n",
       "      <td>0.037086</td>\n",
       "      <td>-0.372810</td>\n",
       "      <td>-0.001489</td>\n",
       "      <td>0.010239</td>\n",
       "      <td>-0.008026</td>\n",
       "      <td>-0.002063</td>\n",
       "      <td>-0.034804</td>\n",
       "      <td>-0.029373</td>\n",
       "      <td>-0.006844</td>\n",
       "      <td>0.011303</td>\n",
       "    </tr>\n",
       "    <tr>\n",
       "      <th>3</th>\n",
       "      <td>0.063916</td>\n",
       "      <td>-0.438615</td>\n",
       "      <td>-0.001454</td>\n",
       "      <td>0.010147</td>\n",
       "      <td>-0.017268</td>\n",
       "      <td>-0.002195</td>\n",
       "      <td>-0.034733</td>\n",
       "      <td>-0.045975</td>\n",
       "      <td>-0.004152</td>\n",
       "      <td>0.011217</td>\n",
       "    </tr>\n",
       "    <tr>\n",
       "      <th>4</th>\n",
       "      <td>0.043173</td>\n",
       "      <td>0.013095</td>\n",
       "      <td>0.000003</td>\n",
       "      <td>-0.001597</td>\n",
       "      <td>0.010126</td>\n",
       "      <td>-0.000787</td>\n",
       "      <td>0.020368</td>\n",
       "      <td>-0.004503</td>\n",
       "      <td>-0.004371</td>\n",
       "      <td>0.015532</td>\n",
       "    </tr>\n",
       "    <tr>\n",
       "      <th>...</th>\n",
       "      <td>...</td>\n",
       "      <td>...</td>\n",
       "      <td>...</td>\n",
       "      <td>...</td>\n",
       "      <td>...</td>\n",
       "      <td>...</td>\n",
       "      <td>...</td>\n",
       "      <td>...</td>\n",
       "      <td>...</td>\n",
       "      <td>...</td>\n",
       "    </tr>\n",
       "    <tr>\n",
       "      <th>57834</th>\n",
       "      <td>0.021187</td>\n",
       "      <td>-0.029145</td>\n",
       "      <td>0.004490</td>\n",
       "      <td>-0.015598</td>\n",
       "      <td>0.019115</td>\n",
       "      <td>0.003898</td>\n",
       "      <td>-0.025234</td>\n",
       "      <td>0.001314</td>\n",
       "      <td>-0.004510</td>\n",
       "      <td>0.014600</td>\n",
       "    </tr>\n",
       "    <tr>\n",
       "      <th>57835</th>\n",
       "      <td>0.040831</td>\n",
       "      <td>-0.038655</td>\n",
       "      <td>0.028370</td>\n",
       "      <td>-0.013809</td>\n",
       "      <td>0.006992</td>\n",
       "      <td>0.026304</td>\n",
       "      <td>-0.033413</td>\n",
       "      <td>0.003272</td>\n",
       "      <td>-0.004557</td>\n",
       "      <td>0.014731</td>\n",
       "    </tr>\n",
       "    <tr>\n",
       "      <th>57836</th>\n",
       "      <td>0.040831</td>\n",
       "      <td>0.041808</td>\n",
       "      <td>-0.000452</td>\n",
       "      <td>-0.013856</td>\n",
       "      <td>0.011406</td>\n",
       "      <td>-0.001169</td>\n",
       "      <td>-0.034371</td>\n",
       "      <td>0.001672</td>\n",
       "      <td>-0.004233</td>\n",
       "      <td>0.014187</td>\n",
       "    </tr>\n",
       "    <tr>\n",
       "      <th>57837</th>\n",
       "      <td>0.040831</td>\n",
       "      <td>-0.036683</td>\n",
       "      <td>0.014512</td>\n",
       "      <td>-0.011929</td>\n",
       "      <td>0.052194</td>\n",
       "      <td>0.011160</td>\n",
       "      <td>-0.031813</td>\n",
       "      <td>0.002119</td>\n",
       "      <td>-0.004547</td>\n",
       "      <td>0.019954</td>\n",
       "    </tr>\n",
       "    <tr>\n",
       "      <th>57838</th>\n",
       "      <td>0.038649</td>\n",
       "      <td>-0.063387</td>\n",
       "      <td>-0.004353</td>\n",
       "      <td>-0.004194</td>\n",
       "      <td>-0.034017</td>\n",
       "      <td>-0.005166</td>\n",
       "      <td>-0.034917</td>\n",
       "      <td>-0.046306</td>\n",
       "      <td>-0.004710</td>\n",
       "      <td>0.007121</td>\n",
       "    </tr>\n",
       "  </tbody>\n",
       "</table>\n",
       "<p>57839 rows × 10 columns</p>\n",
       "</div>"
      ],
      "text/plain": [
       "          Attr6    Attr15    Attr16    Attr21    Attr22    Attr26    Attr27  \\\n",
       "0      0.040831 -0.035154  0.010383 -0.011163  0.001182  0.009938  0.020402   \n",
       "1      0.045310  0.022622 -0.000203 -0.012104  0.006863 -0.000965 -0.034576   \n",
       "2      0.037086 -0.372810 -0.001489  0.010239 -0.008026 -0.002063 -0.034804   \n",
       "3      0.063916 -0.438615 -0.001454  0.010147 -0.017268 -0.002195 -0.034733   \n",
       "4      0.043173  0.013095  0.000003 -0.001597  0.010126 -0.000787  0.020368   \n",
       "...         ...       ...       ...       ...       ...       ...       ...   \n",
       "57834  0.021187 -0.029145  0.004490 -0.015598  0.019115  0.003898 -0.025234   \n",
       "57835  0.040831 -0.038655  0.028370 -0.013809  0.006992  0.026304 -0.033413   \n",
       "57836  0.040831  0.041808 -0.000452 -0.013856  0.011406 -0.001169 -0.034371   \n",
       "57837  0.040831 -0.036683  0.014512 -0.011929  0.052194  0.011160 -0.031813   \n",
       "57838  0.038649 -0.063387 -0.004353 -0.004194 -0.034017 -0.005166 -0.034917   \n",
       "\n",
       "         Attr37    Attr41    Attr42  \n",
       "0      0.005408 -0.004501  0.012986  \n",
       "1     -0.048193 -0.004313  0.014942  \n",
       "2     -0.029373 -0.006844  0.011303  \n",
       "3     -0.045975 -0.004152  0.011217  \n",
       "4     -0.004503 -0.004371  0.015532  \n",
       "...         ...       ...       ...  \n",
       "57834  0.001314 -0.004510  0.014600  \n",
       "57835  0.003272 -0.004557  0.014731  \n",
       "57836  0.001672 -0.004233  0.014187  \n",
       "57837  0.002119 -0.004547  0.019954  \n",
       "57838 -0.046306 -0.004710  0.007121  \n",
       "\n",
       "[57839 rows x 10 columns]"
      ]
     },
     "execution_count": 34,
     "metadata": {},
     "output_type": "execute_result"
    }
   ],
   "source": [
    "X_train_selected"
   ]
  },
  {
   "cell_type": "code",
   "execution_count": 35,
   "id": "bbc117ef",
   "metadata": {},
   "outputs": [
    {
     "name": "stdout",
     "output_type": "stream",
     "text": [
      "<class 'pandas.core.frame.DataFrame'>\n",
      "RangeIndex: 57839 entries, 0 to 57838\n",
      "Data columns (total 10 columns):\n",
      " #   Column  Non-Null Count  Dtype  \n",
      "---  ------  --------------  -----  \n",
      " 0   Attr6   57839 non-null  float64\n",
      " 1   Attr15  57839 non-null  float64\n",
      " 2   Attr16  57839 non-null  float64\n",
      " 3   Attr21  57839 non-null  float64\n",
      " 4   Attr22  57839 non-null  float64\n",
      " 5   Attr26  57839 non-null  float64\n",
      " 6   Attr27  57839 non-null  float64\n",
      " 7   Attr37  57839 non-null  float64\n",
      " 8   Attr41  57839 non-null  float64\n",
      " 9   Attr42  57839 non-null  float64\n",
      "dtypes: float64(10)\n",
      "memory usage: 4.4 MB\n"
     ]
    }
   ],
   "source": [
    "X_train_selected.info()"
   ]
  },
  {
   "cell_type": "code",
   "execution_count": 36,
   "id": "abc31c56",
   "metadata": {},
   "outputs": [
    {
     "data": {
      "text/plain": [
       "Index(['Attr6', 'Attr15', 'Attr16', 'Attr21', 'Attr22', 'Attr26', 'Attr27',\n",
       "       'Attr37', 'Attr41', 'Attr42'],\n",
       "      dtype='object')"
      ]
     },
     "execution_count": 36,
     "metadata": {},
     "output_type": "execute_result"
    }
   ],
   "source": [
    "X_train_selected.columns"
   ]
  },
  {
   "cell_type": "code",
   "execution_count": 37,
   "id": "669f367a",
   "metadata": {},
   "outputs": [],
   "source": [
    "import pandas as pd\n",
    "\n",
    "# Assuming you have already defined X_test_scale\n",
    "\n",
    "# Get the indices of the selected features\n",
    "selected_feature_indices = sel_.get_support(indices=True)\n",
    "\n",
    "# Create a DataFrame with the selected columns for X_test\n",
    "X_test_selected = pd.DataFrame(X_test_scale[:, selected_feature_indices], columns=X_train.columns[selected_feature_indices])\n",
    "\n",
    "# X_test_selected now contains the 10 selected columns from X_test_scale\n"
   ]
  },
  {
   "cell_type": "markdown",
   "id": "3c399d2d",
   "metadata": {},
   "source": [
    "## Models Based On MI Score"
   ]
  },
  {
   "cell_type": "code",
   "execution_count": 38,
   "id": "d644db8c",
   "metadata": {},
   "outputs": [],
   "source": [
    "from sklearn.metrics import accuracy_score, recall_score, precision_score, f1_score\n",
    "from sklearn.metrics import classification_report, confusion_matrix"
   ]
  },
  {
   "cell_type": "code",
   "execution_count": 39,
   "id": "243efdf2",
   "metadata": {},
   "outputs": [
    {
     "data": {
      "text/plain": [
       "Index(['Attr6', 'Attr15', 'Attr16', 'Attr21', 'Attr22', 'Attr26', 'Attr27',\n",
       "       'Attr37', 'Attr41', 'Attr42'],\n",
       "      dtype='object')"
      ]
     },
     "execution_count": 39,
     "metadata": {},
     "output_type": "execute_result"
    }
   ],
   "source": [
    "X_train_selected.columns"
   ]
  },
  {
   "cell_type": "code",
   "execution_count": 40,
   "id": "64067db3",
   "metadata": {},
   "outputs": [
    {
     "name": "stdout",
     "output_type": "stream",
     "text": [
      "SVM Accuracy:  0.6949453386582759\n",
      "SVM Classification Report:\n",
      "              precision    recall  f1-score   support\n",
      "\n",
      "         0.0       0.64      0.86      0.74     12299\n",
      "         1.0       0.80      0.53      0.64     12490\n",
      "\n",
      "    accuracy                           0.69     24789\n",
      "   macro avg       0.72      0.70      0.69     24789\n",
      "weighted avg       0.72      0.69      0.69     24789\n",
      "\n"
     ]
    }
   ],
   "source": [
    "from sklearn.svm import SVC\n",
    "from sklearn.metrics import accuracy_score, classification_report\n",
    "\n",
    "# Define a Support Vector Machine (SVM) Classifier with default hyperparameters\n",
    "svm_model = SVC()\n",
    "\n",
    "# Fit the model to the training data\n",
    "svm_model.fit(X_train_selected, y_train)\n",
    "\n",
    "# Predict using the trained SVM model\n",
    "y_pred_svm = svm_model.predict(X_test_selected)\n",
    "\n",
    "# Calculate and print accuracy\n",
    "acc_svm = accuracy_score(y_test, y_pred_svm)\n",
    "print(\"SVM Accuracy: \", acc_svm)\n",
    "\n",
    "# Print classification report for SVM\n",
    "print(\"SVM Classification Report:\")\n",
    "print(classification_report(y_test, y_pred_svm))\n",
    "\n"
   ]
  },
  {
   "cell_type": "code",
   "execution_count": 41,
   "id": "409f39fb",
   "metadata": {},
   "outputs": [
    {
     "data": {
      "text/plain": [
       "array([0., 1., 0., ..., 0., 1., 0.])"
      ]
     },
     "execution_count": 41,
     "metadata": {},
     "output_type": "execute_result"
    }
   ],
   "source": [
    "y_pred_svm"
   ]
  },
  {
   "cell_type": "code",
   "execution_count": 42,
   "id": "50b16fb7",
   "metadata": {},
   "outputs": [
    {
     "data": {
      "text/plain": [
       "<matplotlib.collections.PathCollection at 0x1e43af1afd0>"
      ]
     },
     "execution_count": 42,
     "metadata": {},
     "output_type": "execute_result"
    },
    {
     "data": {
      "image/png": "[encoded data removed]",
      "text/plain": [
       "<Figure size 640x480 with 1 Axes>"
      ]
     },
     "metadata": {},
     "output_type": "display_data"
    }
   ],
   "source": [
    "# plot a scatter plot for the prediction\n",
    "plt.scatter(y_test,y_pred_svm)"
   ]
  },
  {
   "cell_type": "code",
   "execution_count": 43,
   "id": "b2182da4",
   "metadata": {},
   "outputs": [],
   "source": [
    "residuals = y_test - y_pred_svm"
   ]
  },
  {
   "cell_type": "code",
   "execution_count": 44,
   "id": "c535dca5",
   "metadata": {},
   "outputs": [
    {
     "data": {
      "text/plain": [
       "30461    0.0\n",
       "76753    0.0\n",
       "39319    0.0\n",
       "57860    0.0\n",
       "54702    0.0\n",
       "        ... \n",
       "38035    0.0\n",
       "78474    1.0\n",
       "40664    0.0\n",
       "9020    -1.0\n",
       "24505    0.0\n",
       "Name: class, Length: 24789, dtype: float64"
      ]
     },
     "execution_count": 44,
     "metadata": {},
     "output_type": "execute_result"
    }
   ],
   "source": [
    "residuals"
   ]
  },
  {
   "cell_type": "code",
   "execution_count": 49,
   "id": "06fa832a",
   "metadata": {},
   "outputs": [],
   "source": [
    "from sklearn.metrics import r2_score\n",
    "score = r2_score(y_test,y_pred_svm)"
   ]
  },
  {
   "cell_type": "code",
   "execution_count": 50,
   "id": "e1eace5e",
   "metadata": {},
   "outputs": [
    {
     "data": {
      "text/plain": [
       "-0.22029109099133937"
      ]
     },
     "execution_count": 50,
     "metadata": {},
     "output_type": "execute_result"
    }
   ],
   "source": [
    "score"
   ]
  },
  {
   "cell_type": "code",
   "execution_count": 52,
   "id": "ae530999",
   "metadata": {},
   "outputs": [],
   "source": [
    "import pickle"
   ]
  },
  {
   "cell_type": "code",
   "execution_count": 53,
   "id": "5fbb836f",
   "metadata": {},
   "outputs": [],
   "source": [
    "pickle.dump(svm_model,open('svm.pkl','wb'))"
   ]
  },
  {
   "cell_type": "code",
   "execution_count": 54,
   "id": "cc1719ab",
   "metadata": {},
   "outputs": [],
   "source": [
    "pickled_model = pickle.load(open('svm.pkl','rb'))"
   ]
  },
  {
   "cell_type": "code",
   "execution_count": 55,
   "id": "e42cfec2",
   "metadata": {},
   "outputs": [
    {
     "data": {
      "text/plain": [
       "SVC()"
      ]
     },
     "execution_count": 55,
     "metadata": {},
     "output_type": "execute_result"
    }
   ],
   "source": [
    "pickled_model"
   ]
  },
  {
   "cell_type": "code",
   "execution_count": null,
   "id": "b62e331b",
   "metadata": {},
   "outputs": [],
   "source": []
  }
 ],
 "metadata": {
  "kernelspec": {
   "display_name": "Python 3 (ipykernel)",
   "language": "python",
   "name": "python3"
  },
  "language_info": {
   "codemirror_mode": {
    "name": "ipython",
    "version": 3
   },
   "file_extension": ".py",
   "mimetype": "text/x-python",
   "name": "python",
   "nbconvert_exporter": "python",
   "pygments_lexer": "ipython3",
   "version": "3.9.0"
  }
 },
 "nbformat": 4,
 "nbformat_minor": 5
}
